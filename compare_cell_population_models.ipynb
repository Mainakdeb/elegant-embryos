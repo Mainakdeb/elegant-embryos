{
  "nbformat": 4,
  "nbformat_minor": 0,
  "metadata": {
    "colab": {
      "name": "compare_performance_lineage_population_model.ipynb",
      "provenance": [],
      "collapsed_sections": [],
      "mount_file_id": "1j8eohiIPJMQbFLI3GBgfV-ufOqWcEtV6",
      "authorship_tag": "ABX9TyOJLb0UP/uBuajRhrirvL9v"
    },
    "kernelspec": {
      "name": "python3",
      "display_name": "Python 3"
    },
    "accelerator": "GPU",
    "widgets": {
      "application/vnd.jupyter.widget-state+json": {
        "81bd6d8320a849708f639ada5af228e7": {
          "model_module": "@jupyter-widgets/controls",
          "model_name": "HBoxModel",
          "state": {
            "_view_name": "HBoxView",
            "_dom_classes": [],
            "_model_name": "HBoxModel",
            "_view_module": "@jupyter-widgets/controls",
            "_model_module_version": "1.5.0",
            "_view_count": null,
            "_view_module_version": "1.5.0",
            "box_style": "",
            "layout": "IPY_MODEL_210a8041dfa443bf9151067d96aa78f4",
            "_model_module": "@jupyter-widgets/controls",
            "children": [
              "IPY_MODEL_dec9e089e61f4890a8a2197f3ec6d825",
              "IPY_MODEL_e20ee66301284294b36a11036c284a69"
            ]
          }
        },
        "210a8041dfa443bf9151067d96aa78f4": {
          "model_module": "@jupyter-widgets/base",
          "model_name": "LayoutModel",
          "state": {
            "_view_name": "LayoutView",
            "grid_template_rows": null,
            "right": null,
            "justify_content": null,
            "_view_module": "@jupyter-widgets/base",
            "overflow": null,
            "_model_module_version": "1.2.0",
            "_view_count": null,
            "flex_flow": null,
            "width": null,
            "min_width": null,
            "border": null,
            "align_items": null,
            "bottom": null,
            "_model_module": "@jupyter-widgets/base",
            "top": null,
            "grid_column": null,
            "overflow_y": null,
            "overflow_x": null,
            "grid_auto_flow": null,
            "grid_area": null,
            "grid_template_columns": null,
            "flex": null,
            "_model_name": "LayoutModel",
            "justify_items": null,
            "grid_row": null,
            "max_height": null,
            "align_content": null,
            "visibility": null,
            "align_self": null,
            "height": null,
            "min_height": null,
            "padding": null,
            "grid_auto_rows": null,
            "grid_gap": null,
            "max_width": null,
            "order": null,
            "_view_module_version": "1.2.0",
            "grid_template_areas": null,
            "object_position": null,
            "object_fit": null,
            "grid_auto_columns": null,
            "margin": null,
            "display": null,
            "left": null
          }
        },
        "dec9e089e61f4890a8a2197f3ec6d825": {
          "model_module": "@jupyter-widgets/controls",
          "model_name": "FloatProgressModel",
          "state": {
            "_view_name": "ProgressView",
            "style": "IPY_MODEL_699708160dd441c7813c8ab21dddb25a",
            "_dom_classes": [],
            "description": "100%",
            "_model_name": "FloatProgressModel",
            "bar_style": "success",
            "max": 46827520,
            "_view_module": "@jupyter-widgets/controls",
            "_model_module_version": "1.5.0",
            "value": 46827520,
            "_view_count": null,
            "_view_module_version": "1.5.0",
            "orientation": "horizontal",
            "min": 0,
            "description_tooltip": null,
            "_model_module": "@jupyter-widgets/controls",
            "layout": "IPY_MODEL_462f7b4378e24636b2b5d33b25ce9a54"
          }
        },
        "e20ee66301284294b36a11036c284a69": {
          "model_module": "@jupyter-widgets/controls",
          "model_name": "HTMLModel",
          "state": {
            "_view_name": "HTMLView",
            "style": "IPY_MODEL_7712aabb2cfd458cb2acb7559176e967",
            "_dom_classes": [],
            "description": "",
            "_model_name": "HTMLModel",
            "placeholder": "​",
            "_view_module": "@jupyter-widgets/controls",
            "_model_module_version": "1.5.0",
            "value": " 44.7M/44.7M [00:12&lt;00:00, 3.71MB/s]",
            "_view_count": null,
            "_view_module_version": "1.5.0",
            "description_tooltip": null,
            "_model_module": "@jupyter-widgets/controls",
            "layout": "IPY_MODEL_c6730188830d41d6b431dbf1e6a74c09"
          }
        },
        "699708160dd441c7813c8ab21dddb25a": {
          "model_module": "@jupyter-widgets/controls",
          "model_name": "ProgressStyleModel",
          "state": {
            "_view_name": "StyleView",
            "_model_name": "ProgressStyleModel",
            "description_width": "initial",
            "_view_module": "@jupyter-widgets/base",
            "_model_module_version": "1.5.0",
            "_view_count": null,
            "_view_module_version": "1.2.0",
            "bar_color": null,
            "_model_module": "@jupyter-widgets/controls"
          }
        },
        "462f7b4378e24636b2b5d33b25ce9a54": {
          "model_module": "@jupyter-widgets/base",
          "model_name": "LayoutModel",
          "state": {
            "_view_name": "LayoutView",
            "grid_template_rows": null,
            "right": null,
            "justify_content": null,
            "_view_module": "@jupyter-widgets/base",
            "overflow": null,
            "_model_module_version": "1.2.0",
            "_view_count": null,
            "flex_flow": null,
            "width": null,
            "min_width": null,
            "border": null,
            "align_items": null,
            "bottom": null,
            "_model_module": "@jupyter-widgets/base",
            "top": null,
            "grid_column": null,
            "overflow_y": null,
            "overflow_x": null,
            "grid_auto_flow": null,
            "grid_area": null,
            "grid_template_columns": null,
            "flex": null,
            "_model_name": "LayoutModel",
            "justify_items": null,
            "grid_row": null,
            "max_height": null,
            "align_content": null,
            "visibility": null,
            "align_self": null,
            "height": null,
            "min_height": null,
            "padding": null,
            "grid_auto_rows": null,
            "grid_gap": null,
            "max_width": null,
            "order": null,
            "_view_module_version": "1.2.0",
            "grid_template_areas": null,
            "object_position": null,
            "object_fit": null,
            "grid_auto_columns": null,
            "margin": null,
            "display": null,
            "left": null
          }
        },
        "7712aabb2cfd458cb2acb7559176e967": {
          "model_module": "@jupyter-widgets/controls",
          "model_name": "DescriptionStyleModel",
          "state": {
            "_view_name": "StyleView",
            "_model_name": "DescriptionStyleModel",
            "description_width": "",
            "_view_module": "@jupyter-widgets/base",
            "_model_module_version": "1.5.0",
            "_view_count": null,
            "_view_module_version": "1.2.0",
            "_model_module": "@jupyter-widgets/controls"
          }
        },
        "c6730188830d41d6b431dbf1e6a74c09": {
          "model_module": "@jupyter-widgets/base",
          "model_name": "LayoutModel",
          "state": {
            "_view_name": "LayoutView",
            "grid_template_rows": null,
            "right": null,
            "justify_content": null,
            "_view_module": "@jupyter-widgets/base",
            "overflow": null,
            "_model_module_version": "1.2.0",
            "_view_count": null,
            "flex_flow": null,
            "width": null,
            "min_width": null,
            "border": null,
            "align_items": null,
            "bottom": null,
            "_model_module": "@jupyter-widgets/base",
            "top": null,
            "grid_column": null,
            "overflow_y": null,
            "overflow_x": null,
            "grid_auto_flow": null,
            "grid_area": null,
            "grid_template_columns": null,
            "flex": null,
            "_model_name": "LayoutModel",
            "justify_items": null,
            "grid_row": null,
            "max_height": null,
            "align_content": null,
            "visibility": null,
            "align_self": null,
            "height": null,
            "min_height": null,
            "padding": null,
            "grid_auto_rows": null,
            "grid_gap": null,
            "max_width": null,
            "order": null,
            "_view_module_version": "1.2.0",
            "grid_template_areas": null,
            "object_position": null,
            "object_fit": null,
            "grid_auto_columns": null,
            "margin": null,
            "display": null,
            "left": null
          }
        }
      }
    }
  },
  "cells": [
    {
      "cell_type": "code",
      "metadata": {
        "id": "x2BVhAP8MWs6"
      },
      "source": [
        "!pip install --upgrade scikit-learn"
      ],
      "execution_count": null,
      "outputs": []
    },
    {
      "cell_type": "code",
      "metadata": {
        "id": "pXAm5vNwIi-2"
      },
      "source": [
        "!git clone https://github.com/DevoLearn/devolearn.git"
      ],
      "execution_count": null,
      "outputs": []
    },
    {
      "cell_type": "code",
      "metadata": {
        "id": "AYqrQ3w8Klww"
      },
      "source": [
        "!cp /content/drive/MyDrive/mydata/epic_subsets/epic_10k.csv /content/\r\n",
        "!cp /content/drive/MyDrive/mydata/epic_subsets/scaled_epic_10k.csv /content/\r\n",
        "!cp /content/drive/\"My Drive\"/frames_raw.zip /content/\r\n",
        "!unzip frames_raw.zip"
      ],
      "execution_count": null,
      "outputs": []
    },
    {
      "cell_type": "code",
      "metadata": {
        "id": "2WGu6kTlIW-V"
      },
      "source": [
        "!cp /content/drive/MyDrive/models/lineage_pop_res_50/10k_res_18_identical_2.pth /content/\r\n",
        "!cp /content/drive/MyDrive/mydata/scalers/scaler_new_10k.gz /content/"
      ],
      "execution_count": 4,
      "outputs": []
    },
    {
      "cell_type": "code",
      "metadata": {
        "id": "FQK-M_rFHqD7"
      },
      "source": [
        "import torch\r\n",
        "import torchvision.models as models\r\n",
        "import torch.nn as nn\r\n",
        "import joblib\r\n",
        "import pandas as pd\r\n",
        "import matplotlib.pyplot as plt\r\n",
        "import cv2\r\n",
        "import torchvision.transforms as transforms\r\n",
        "from PIL import Image\r\n",
        "import numpy as np"
      ],
      "execution_count": 5,
      "outputs": []
    },
    {
      "cell_type": "code",
      "metadata": {
        "colab": {
          "base_uri": "https://localhost:8080/"
        },
        "id": "9nU-ONOEHjU4",
        "outputId": "77110417-174b-4e87-a4ca-2de281ee3cea"
      },
      "source": [
        "device = torch.device(\"cuda:0\" if torch.cuda.is_available() else \"cpu\")\r\n",
        "device"
      ],
      "execution_count": 6,
      "outputs": [
        {
          "output_type": "execute_result",
          "data": {
            "text/plain": [
              "device(type='cuda', index=0)"
            ]
          },
          "metadata": {
            "tags": []
          },
          "execution_count": 6
        }
      ]
    },
    {
      "cell_type": "code",
      "metadata": {
        "id": "_vMD6BzfIA9I",
        "colab": {
          "base_uri": "https://localhost:8080/",
          "height": 82,
          "referenced_widgets": [
            "81bd6d8320a849708f639ada5af228e7",
            "210a8041dfa443bf9151067d96aa78f4",
            "dec9e089e61f4890a8a2197f3ec6d825",
            "e20ee66301284294b36a11036c284a69",
            "699708160dd441c7813c8ab21dddb25a",
            "462f7b4378e24636b2b5d33b25ce9a54",
            "7712aabb2cfd458cb2acb7559176e967",
            "c6730188830d41d6b431dbf1e6a74c09"
          ]
        },
        "outputId": "d201e088-badf-4b27-bbdc-21bc1a238f3e"
      },
      "source": [
        "model_dummy = models.resnet18(pretrained = True)\r\n",
        "model_1 = models.resnet18(pretrained = True)\r\n",
        "model_2 = models.resnet18(pretrained = True)\r\n",
        "model_1.fc = model_1.fc = nn.Linear(512, 7)\r\n",
        "model_2.fc = model_2.fc = nn.Linear(512, 7)\r\n",
        "model_dummy.fc = model_dummy.fc = nn.Linear(512, 7)\r\n",
        "\r\n",
        "\r\n",
        "\r\n",
        "model_1 = model_1.to(device)\r\n",
        "model_2 = model_2.to(device)\r\n",
        "model_dummy=model_dummy.to(device)"
      ],
      "execution_count": 7,
      "outputs": [
        {
          "output_type": "stream",
          "text": [
            "Downloading: \"https://download.pytorch.org/models/resnet18-5c106cde.pth\" to /root/.cache/torch/hub/checkpoints/resnet18-5c106cde.pth\n"
          ],
          "name": "stderr"
        },
        {
          "output_type": "display_data",
          "data": {
            "application/vnd.jupyter.widget-view+json": {
              "model_id": "81bd6d8320a849708f639ada5af228e7",
              "version_minor": 0,
              "version_major": 2
            },
            "text/plain": [
              "HBox(children=(FloatProgress(value=0.0, max=46827520.0), HTML(value='')))"
            ]
          },
          "metadata": {
            "tags": []
          }
        },
        {
          "output_type": "stream",
          "text": [
            "\n"
          ],
          "name": "stdout"
        }
      ]
    },
    {
      "cell_type": "code",
      "metadata": {
        "id": "rAVQZqYiIRkT"
      },
      "source": [
        "model_1.load_state_dict(torch.load(\"/content/devolearn/devolearn/lineage_population_model/estimate_lineage_population.pt\"))\r\n",
        "scaler_1 = joblib.load(\"/content/devolearn/devolearn/lineage_population_model/scaler/scaler.gz\")\r\n",
        "\r\n",
        "model_2.load_state_dict(torch.load(\"/content/10k_res_18_identical_2.pth\"))\r\n",
        "scaler_2 = joblib.load(\"/content/scaler_new_10k.gz\")\r\n",
        "\r\n",
        "model_1.eval()\r\n",
        "model_2.eval()"
      ],
      "execution_count": null,
      "outputs": []
    },
    {
      "cell_type": "code",
      "metadata": {
        "colab": {
          "base_uri": "https://localhost:8080/"
        },
        "id": "jpQffRusOLnj",
        "outputId": "0b7973d4-b2e5-424f-bb30-cca6ac687e6d"
      },
      "source": [
        "print(\"Minimun values of each column (devolearn) = \", scaler_1.data_min_)\r\n",
        "print(\"Maximum values of each column (devolearn) = \", scaler_1.data_max_)\r\n",
        "print(\"Minimun values of each column (new) = \", scaler_2.data_min_)\r\n",
        "print(\"Maximum values of each column (new) = \", scaler_2.data_max_)\r\n",
        "\r\n",
        "#make alpha bar plot"
      ],
      "execution_count": 9,
      "outputs": [
        {
          "output_type": "stream",
          "text": [
            "Minimun values of each column (devolearn) =  [0. 0. 0. 0. 0. 0. 0.]\n",
            "Maximum values of each column (devolearn) =  [250.  14.  43.   1.  26.   8.   2.]\n",
            "Minimun values of each column (new) =  [0. 0. 0. 0. 0. 0. 0.]\n",
            "Maximum values of each column (new) =  [250.  16.  78.   1.  31.  16.   2.]\n"
          ],
          "name": "stdout"
        }
      ]
    },
    {
      "cell_type": "code",
      "metadata": {
        "id": "hOnivs6f0-kO"
      },
      "source": [
        "plt.rcParams['figure.figsize'] =10, 6\r\n",
        "width = 0.40\r\n",
        "labels=['A','E','M', 'P', 'C', \"D\", \"Z\"]\r\n",
        "ind = np.arange(7)\r\n",
        "plt.bar(ind, scaler_1.data_max_, width, label=\"values: old data-set\")\r\n",
        "plt.bar(ind+width, scaler_2.data_max_, width,  label=\"values: new data-set\")\r\n",
        "plt.xticks(ind, labels)\r\n",
        "plt.grid()\r\n",
        "plt.legend(loc='best')\r\n",
        "plt.show()"
      ],
      "execution_count": null,
      "outputs": []
    },
    {
      "cell_type": "code",
      "metadata": {
        "id": "tyLqL_nNKRhi"
      },
      "source": [
        "mini_transform = transforms.Compose([\r\n",
        "                                     transforms.ToPILImage(),\r\n",
        "                                     transforms.Resize((256,256), interpolation = Image.NEAREST),\r\n",
        "                                     transforms.ToTensor(),\r\n",
        "                                     transforms.Normalize(0.5, 0.5, 0.5)\r\n",
        "])"
      ],
      "execution_count": 11,
      "outputs": []
    },
    {
      "cell_type": "code",
      "metadata": {
        "id": "1_rUsiFwIzrh"
      },
      "source": [
        "def researcher_vs_model(look_for_tag, model_, scaler_):\r\n",
        "    df_test = pd.read_csv(\"scaled_epic_10k.csv\")\r\n",
        "    df_single_cell = df_test[df_test['filenames'].str.contains(look_for_tag)]\r\n",
        "    a_pop_upper_limit = 250\r\n",
        "    df_test = df_test[df_test[\"A\"] <= a_pop_upper_limit]\r\n",
        "    data = scaler_.inverse_transform(df_single_cell[['A', 'E', 'M', 'P', 'C', 'D', 'Z']].values)\r\n",
        "    real_time_plots = []\r\n",
        "    \r\n",
        "    for i in range(len(df_single_cell.columns[1:])):\r\n",
        "        real_time_plots.append(data[:,i])\r\n",
        "\r\n",
        "    preds = []\r\n",
        "    filenames = df_single_cell.filenames.values\r\n",
        "\r\n",
        "    for i in range (len(filenames)):\r\n",
        "        image = cv2.imread(filenames[i])\r\n",
        "        tensor = mini_transform(image).unsqueeze(0).to(device)\r\n",
        "        pred = model_(tensor).cpu().detach().numpy().flatten()\r\n",
        "        preds.append(pred)\r\n",
        "        \r\n",
        "    preds = scaler_.inverse_transform(np.array(preds)).astype(np.uint8)\r\n",
        "\r\n",
        "    generated_time_plots = []\r\n",
        "    for i in range(len(df_single_cell.columns[1:])):\r\n",
        "        generated_time_plots.append(preds[:,i])\r\n",
        "\r\n",
        "    plt.rcParams['figure.figsize'] =25, 10\r\n",
        "\r\n",
        "    for i in range(len(real_time_plots)):\r\n",
        "        plt.plot(real_time_plots[i], label = df_single_cell.columns[:-1][i] )\r\n",
        "\r\n",
        "    for i in range(len(generated_time_plots)):\r\n",
        "        plt.plot(generated_time_plots[i], label = df_single_cell.columns[:-1][i] + \"_pred\", linestyle = \"--\", linewidth = 2 )\r\n",
        "\r\n",
        "    plt.xlabel(\"time\", fontsize = 25)\r\n",
        "    plt.ylabel(\"population\", fontsize = 25)\r\n",
        "    plt.legend(fontsize = 20)\r\n",
        "    plt.grid()\r\n",
        "    plt.show()"
      ],
      "execution_count": 12,
      "outputs": []
    },
    {
      "cell_type": "code",
      "metadata": {
        "id": "Hop8Xqv8Muwk"
      },
      "source": [
        "clean_tags = [\r\n",
        "             \"20080709_ceh-27_1_L1\",\r\n",
        "              \"20080731_ceh-32_4_L1\",\r\n",
        "              ]\r\n",
        "\r\n",
        "for tag in clean_tags:\r\n",
        "  researcher_vs_model(look_for_tag=tag, \r\n",
        "                      model_ = model_2, \r\n",
        "                      scaler_=scaler_2)\r\n",
        "  print(tag)\r\n"
      ],
      "execution_count": null,
      "outputs": []
    },
    {
      "cell_type": "code",
      "metadata": {
        "id": "Cid8UmOmWaGY"
      },
      "source": [
        "for tag in clean_tags:\r\n",
        "  researcher_vs_model(look_for_tag=tag, \r\n",
        "                      model_ = model_1, \r\n",
        "                      scaler_=scaler_1)\r\n",
        "  print(tag)\r\n"
      ],
      "execution_count": null,
      "outputs": []
    },
    {
      "cell_type": "code",
      "metadata": {
        "id": "E0Wn11_inP6d"
      },
      "source": [
        "from sklearn.metrics import mean_squared_error"
      ],
      "execution_count": 15,
      "outputs": []
    },
    {
      "cell_type": "code",
      "metadata": {
        "id": "fasaDK2Ngre2"
      },
      "source": [
        "def compute_loss(look_for_tag, model_, scaler_):\r\n",
        "  df_test = pd.read_csv(\"scaled_epic_10k.csv\")\r\n",
        "  df_single_cell = df_test[df_test['filenames'].str.contains(look_for_tag)]\r\n",
        "  a_pop_upper_limit = 250\r\n",
        "  df_test = df_test[df_test[\"A\"] <= a_pop_upper_limit]\r\n",
        "  data = scaler_.inverse_transform(df_single_cell[['A', 'E', 'M', 'P', 'C', 'D', 'Z']].values)\r\n",
        "  data_unscaled=df_single_cell[['A', 'E', 'M', 'P', 'C', 'D', 'Z']].values\r\n",
        "  real_time_plots = []\r\n",
        "  \r\n",
        "  for i in range(len(df_single_cell.columns[1:])):\r\n",
        "      real_time_plots.append(data_unscaled[:,i])\r\n",
        "\r\n",
        "  preds = []\r\n",
        "  filenames = df_single_cell.filenames.values\r\n",
        "\r\n",
        "  for i in range (len(filenames)):\r\n",
        "      image = cv2.imread(filenames[i])\r\n",
        "      tensor = mini_transform(image).unsqueeze(0).to(device)\r\n",
        "      pred = model_(tensor).cpu().detach().numpy().flatten()\r\n",
        "      preds.append(pred)\r\n",
        "      \r\n",
        "  #preds = scaler_.inverse_transform(np.array(preds)).astype(np.uint8)\r\n",
        "  preds = np.array(preds).astype(np.uint8)\r\n",
        "  generated_time_plots = []\r\n",
        "  \r\n",
        "  for i in range(len(df_single_cell.columns[1:])):\r\n",
        "      generated_time_plots.append(preds[:,i])\r\n",
        "\r\n",
        "  loss = mean_squared_error(real_time_plots,generated_time_plots)\r\n",
        "  return(loss)"
      ],
      "execution_count": 71,
      "outputs": []
    },
    {
      "cell_type": "code",
      "metadata": {
        "colab": {
          "base_uri": "https://localhost:8080/"
        },
        "id": "J1jAzAHslCMe",
        "outputId": "a62b08ab-1555-4cca-a30c-06a0f6c69366"
      },
      "source": [
        "for tag in clean_tags:\r\n",
        "  print(\"loss in video id: \"+tag+\" =\", compute_loss(look_for_tag=tag, \r\n",
        "                                               model_=model_1, \r\n",
        "                                               scaler_=scaler_1))"
      ],
      "execution_count": 72,
      "outputs": [
        {
          "output_type": "stream",
          "text": [
            "loss in video id: 20080709_ceh-27_1_L1 = 0.16264253017743988\n",
            "loss in video id: 20080731_ceh-32_4_L1 = 0.11511232986442403\n"
          ],
          "name": "stdout"
        }
      ]
    },
    {
      "cell_type": "code",
      "metadata": {
        "colab": {
          "base_uri": "https://localhost:8080/"
        },
        "id": "Sf_GkBqKmsjh",
        "outputId": "b57fb847-1ecf-4a00-e68d-f9aee39671b2"
      },
      "source": [
        "for tag in clean_tags:\r\n",
        "  print(\"loss in video id: \"+tag+\" =\", compute_loss(look_for_tag=tag, \r\n",
        "                                               model_=model_2, \r\n",
        "                                               scaler_=scaler_2))"
      ],
      "execution_count": 73,
      "outputs": [
        {
          "output_type": "stream",
          "text": [
            "loss in video id: 20080709_ceh-27_1_L1 = 0.0848775532189145\n",
            "loss in video id: 20080731_ceh-32_4_L1 = 0.09050535788903101\n"
          ],
          "name": "stdout"
        }
      ]
    },
    {
      "cell_type": "code",
      "metadata": {
        "id": "pf26ic6TsrlO"
      },
      "source": [
        "df = pd.read_csv(\"/content/scaled_epic_10k.csv\")\r\n",
        "df = pd.DataFrame(df.filenames.str.split('/',1).tolist(),\r\n",
        "                                 columns = ['dir','filenames'])\r\n",
        "df = pd.DataFrame(df.filenames.str.split('/',1).tolist(),\r\n",
        "                                 columns = ['vid_id','frame'])"
      ],
      "execution_count": 100,
      "outputs": []
    },
    {
      "cell_type": "code",
      "metadata": {
        "id": "YkY3nDjS73lc"
      },
      "source": [
        "all_tags=list(df.vid_id.unique())\r\n",
        "video_losses_1=[]\r\n",
        "video_losses_2=[]\r\n",
        "for tag in all_tags:\r\n",
        "  loss_1=compute_loss(look_for_tag=tag, \r\n",
        "                      model_=model_1, \r\n",
        "                      scaler_=scaler_1)\r\n",
        "  loss_2=compute_loss(look_for_tag=tag, \r\n",
        "                      model_=model_2, \r\n",
        "                      scaler_=scaler_2)\r\n",
        "  video_losses_1.append(loss_1)\r\n",
        "  video_losses_2.append(loss_2)"
      ],
      "execution_count": 101,
      "outputs": []
    },
    {
      "cell_type": "code",
      "metadata": {
        "id": "lJr8ICgKAGJ0"
      },
      "source": [
        "plt.rcParams['figure.figsize'] =20, 10\r\n",
        "#plt.rcParams.update(plt.rcParamsDefault)\r\n",
        "\r\n",
        "width = 0.30\r\n",
        "labels=all_tags\r\n",
        "ind = np.arange(36)\r\n",
        "plt.bar(ind, video_losses_1, width, label=\"Current Devolearn model\")\r\n",
        "plt.bar(ind+width, video_losses_2, width,  label=\"upgraded model\")\r\n",
        "plt.xticks(ind, labels, rotation='vertical')\r\n",
        "plt.ylabel('Losses')\r\n",
        "plt.xlabel(\"Video ID's\")\r\n",
        "plt.grid()\r\n",
        "plt.legend(loc='best')\r\n",
        "plt.show()"
      ],
      "execution_count": null,
      "outputs": []
    },
    {
      "cell_type": "code",
      "metadata": {
        "id": "1cHDS6uvAXd1"
      },
      "source": [
        "plt.rcParams['figure.figsize'] =15, 10\r\n",
        "\r\n",
        "average_video_losses_1=np.mean(video_losses_1)\r\n",
        "average_video_losses_2=np.mean(video_losses_2)\r\n",
        "width = 0.30\r\n",
        "labels=all_tags\r\n",
        "ind = np.arange(1)\r\n",
        "plt.bar(ind, average_video_losses_1, width, label=\"Current devolearn model: average loss on 36 videos\")\r\n",
        "plt.bar(ind+width, average_video_losses_2, width,  label=\"upgraded model: average loss on 36 videos\")\r\n",
        "plt.xticks(ind)\r\n",
        "plt.ylabel('Losses')\r\n",
        "plt.xlabel(\"X\")\r\n",
        "plt.grid()\r\n",
        "plt.legend(loc='best')\r\n",
        "plt.show()"
      ],
      "execution_count": null,
      "outputs": []
    },
    {
      "cell_type": "code",
      "metadata": {
        "id": "2eL0mCPYGQKU"
      },
      "source": [
        ""
      ],
      "execution_count": 103,
      "outputs": []
    }
  ]
}