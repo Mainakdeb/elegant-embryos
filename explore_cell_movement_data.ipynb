{
  "nbformat": 4,
  "nbformat_minor": 0,
  "metadata": {
    "colab": {
      "name": "Untitled3.ipynb",
      "provenance": [],
      "mount_file_id": "104u436XA7jY5DcWYmOxZZEkt-hX6Hfgy",
      "authorship_tag": "ABX9TyOFf3Q6SVkouxwcjYaZhu+T",
      "include_colab_link": true
    },
    "kernelspec": {
      "name": "python3",
      "display_name": "Python 3"
    }
  },
  "cells": [
    {
      "cell_type": "markdown",
      "metadata": {
        "id": "view-in-github",
        "colab_type": "text"
      },
      "source": [
        "<a href=\"https://colab.research.google.com/github/Mainakdeb/elegant-embryos/blob/main/explore_cell_movement_data.ipynb\" target=\"_parent\"><img src=\"https://colab.research.google.com/assets/colab-badge.svg\" alt=\"Open In Colab\"/></a>"
      ]
    },
    {
      "cell_type": "code",
      "metadata": {
        "id": "r1XzenNWF2fT"
      },
      "source": [
        "import pandas as pd\r\n",
        "import numpy as np\r\n",
        "import matplotlib.pyplot as plt\r\n",
        "import os\r\n",
        "from tqdm import tqdm\r\n",
        "import shutil\r\n",
        "\r\n",
        "# DRIVE_ROOT = \"/content/drive/MyDrive/mydata/devolearn/\"\r\n",
        "plt.rcParams['figure.figsize'] =10, 10"
      ],
      "execution_count": 11,
      "outputs": []
    },
    {
      "cell_type": "code",
      "metadata": {
        "colab": {
          "base_uri": "https://localhost:8080/"
        },
        "id": "s-ZDeL9aI9Vg",
        "outputId": "3b58780c-7531-4655-ad19-a47dccd424ef"
      },
      "source": [
        "#download data\r\n",
        "!wget https://epic.gs.washington.edu/csv/CD20080412_ama-1_3A3_5.csv"
      ],
      "execution_count": 19,
      "outputs": [
        {
          "output_type": "stream",
          "text": [
            "--2021-03-10 12:41:23--  https://epic.gs.washington.edu/csv/CD20080412_ama-1_3A3_5.csv\n",
            "Resolving epic.gs.washington.edu (epic.gs.washington.edu)... 128.208.9.147\n",
            "Connecting to epic.gs.washington.edu (epic.gs.washington.edu)|128.208.9.147|:443... connected.\n",
            "HTTP request sent, awaiting response... 200 OK\n",
            "Length: 1288229 (1.2M) [text/csv]\n",
            "Saving to: ‘CD20080412_ama-1_3A3_5.csv.1’\n",
            "\n",
            "CD20080412_ama-1_3A 100%[===================>]   1.23M  1.14MB/s    in 1.1s    \n",
            "\n",
            "2021-03-10 12:41:25 (1.14 MB/s) - ‘CD20080412_ama-1_3A3_5.csv.1’ saved [1288229/1288229]\n",
            "\n"
          ],
          "name": "stdout"
        }
      ]
    },
    {
      "cell_type": "code",
      "metadata": {
        "colab": {
          "base_uri": "https://localhost:8080/",
          "height": 168
        },
        "id": "InAJTrGSF3Rc",
        "outputId": "1e4772a0-18ab-4414-a63a-d35bb18bbb3b"
      },
      "source": [
        "df = pd.read_csv(\"CD20080412_ama-1_3A3_5.csv\")\r\n",
        "df.head(4)"
      ],
      "execution_count": 21,
      "outputs": [
        {
          "output_type": "execute_result",
          "data": {
            "text/html": [
              "<div>\n",
              "<style scoped>\n",
              "    .dataframe tbody tr th:only-of-type {\n",
              "        vertical-align: middle;\n",
              "    }\n",
              "\n",
              "    .dataframe tbody tr th {\n",
              "        vertical-align: top;\n",
              "    }\n",
              "\n",
              "    .dataframe thead th {\n",
              "        text-align: right;\n",
              "    }\n",
              "</style>\n",
              "<table border=\"1\" class=\"dataframe\">\n",
              "  <thead>\n",
              "    <tr style=\"text-align: right;\">\n",
              "      <th></th>\n",
              "      <th>cellTime</th>\n",
              "      <th>cell</th>\n",
              "      <th>time</th>\n",
              "      <th>none</th>\n",
              "      <th>global</th>\n",
              "      <th>local</th>\n",
              "      <th>blot</th>\n",
              "      <th>cross</th>\n",
              "      <th>z</th>\n",
              "      <th>x</th>\n",
              "      <th>y</th>\n",
              "      <th>size</th>\n",
              "      <th>gweight</th>\n",
              "    </tr>\n",
              "  </thead>\n",
              "  <tbody>\n",
              "    <tr>\n",
              "      <th>0</th>\n",
              "      <td>P0:1</td>\n",
              "      <td>P0</td>\n",
              "      <td>1</td>\n",
              "      <td>28481</td>\n",
              "      <td>3481</td>\n",
              "      <td>2216</td>\n",
              "      <td>2216</td>\n",
              "      <td>3481</td>\n",
              "      <td>13.1</td>\n",
              "      <td>402</td>\n",
              "      <td>275</td>\n",
              "      <td>92</td>\n",
              "      <td>4324237</td>\n",
              "    </tr>\n",
              "    <tr>\n",
              "      <th>1</th>\n",
              "      <td>P0:2</td>\n",
              "      <td>P0</td>\n",
              "      <td>2</td>\n",
              "      <td>25411</td>\n",
              "      <td>411</td>\n",
              "      <td>-112</td>\n",
              "      <td>-112</td>\n",
              "      <td>411</td>\n",
              "      <td>13.1</td>\n",
              "      <td>390</td>\n",
              "      <td>267</td>\n",
              "      <td>50</td>\n",
              "      <td>919174</td>\n",
              "    </tr>\n",
              "    <tr>\n",
              "      <th>2</th>\n",
              "      <td>P0:3</td>\n",
              "      <td>P0</td>\n",
              "      <td>3</td>\n",
              "      <td>23515</td>\n",
              "      <td>-1485</td>\n",
              "      <td>-1069</td>\n",
              "      <td>-1069</td>\n",
              "      <td>-1485</td>\n",
              "      <td>14.0</td>\n",
              "      <td>410</td>\n",
              "      <td>261</td>\n",
              "      <td>50</td>\n",
              "      <td>992425</td>\n",
              "    </tr>\n",
              "    <tr>\n",
              "      <th>3</th>\n",
              "      <td>AB:4</td>\n",
              "      <td>AB</td>\n",
              "      <td>4</td>\n",
              "      <td>24598</td>\n",
              "      <td>-402</td>\n",
              "      <td>-3</td>\n",
              "      <td>-3</td>\n",
              "      <td>-402</td>\n",
              "      <td>14.1</td>\n",
              "      <td>386</td>\n",
              "      <td>250</td>\n",
              "      <td>40</td>\n",
              "      <td>491859</td>\n",
              "    </tr>\n",
              "  </tbody>\n",
              "</table>\n",
              "</div>"
            ],
            "text/plain": [
              "  cellTime cell  time   none  global  ...     z    x    y  size  gweight\n",
              "0     P0:1   P0     1  28481    3481  ...  13.1  402  275    92  4324237\n",
              "1     P0:2   P0     2  25411     411  ...  13.1  390  267    50   919174\n",
              "2     P0:3   P0     3  23515   -1485  ...  14.0  410  261    50   992425\n",
              "3     AB:4   AB     4  24598    -402  ...  14.1  386  250    40   491859\n",
              "\n",
              "[4 rows x 13 columns]"
            ]
          },
          "metadata": {
            "tags": []
          },
          "execution_count": 21
        }
      ]
    },
    {
      "cell_type": "code",
      "metadata": {
        "id": "kzdyfiX8F87h"
      },
      "source": [
        "def trace_movement_2d(cellname):\r\n",
        "    trace = df[df.cell.isin([cellname])]\r\n",
        "    x = trace.x.values\r\n",
        "    y = trace.y.values\r\n",
        "    t = trace.time.values\r\n",
        "    return x, y, t\r\n",
        "\r\n",
        "def put_text(x,y,t, plt):\r\n",
        "    for i in range (len(x)):\r\n",
        "        plt.text(x[i], y[i], t[i], fontsize = 10)\r\n",
        "    return plt\r\n",
        "\r\n",
        "def plot_movement_2d(cell_names_list = [], text=False, legend=False):\r\n",
        "    \r\n",
        "    traces = []\r\n",
        "    f, ax = plt.subplots(figsize= (21,15))\r\n",
        "    for cellname in cell_names_list:\r\n",
        "        x,y,t =  trace_movement_2d(cellname)\r\n",
        "        traces.append([x,y,t])\r\n",
        "\r\n",
        "    for i in range(len(traces)):\r\n",
        "        ax.plot(traces[i][0], traces[i][1], \"o-\", label = cell_names_list[i])\r\n",
        "\r\n",
        "    if text:    \r\n",
        "      for i in range(len(traces)):\r\n",
        "          ax = put_text( traces[i][0], traces[i][1], traces[i][2], ax)\r\n",
        "    if legend:    \r\n",
        "      ax.legend(fontsize = 20)\r\n",
        "    ax.grid()\r\n"
      ],
      "execution_count": 35,
      "outputs": []
    },
    {
      "cell_type": "code",
      "metadata": {
        "id": "89i3lbZ8KKrC"
      },
      "source": [
        "plot_movement_2d(cell_names_list =list(df.cell.unique()), text=False, legend=False)                                 "
      ],
      "execution_count": null,
      "outputs": []
    }
  ]
}